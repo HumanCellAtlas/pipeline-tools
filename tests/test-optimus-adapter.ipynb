{
 "cells": [
  {
   "cell_type": "markdown",
   "metadata": {
    "deletable": true,
    "editable": true
   },
   "source": [
    "## Load Libraries"
   ]
  },
  {
   "cell_type": "code",
   "execution_count": 1,
   "metadata": {
    "collapsed": true,
    "deletable": true,
    "editable": true
   },
   "outputs": [],
   "source": [
    "import json\n",
    "import os\n",
    "from google.cloud import storage\n",
    "import cromwell_manager as cwm\n",
    "\n",
    "with open(os.path.expanduser('~/.ssh/mint_cromwell_config.json')) as f:\n",
    "    cromwell_server = cwm.Cromwell(**json.load(f))\n",
    "\n",
    "storage_client = storage.Client(project='broad-dsde-mint-dev')"
   ]
  },
  {
   "cell_type": "markdown",
   "metadata": {
    "deletable": true,
    "editable": true
   },
   "source": [
    "## Define Testing Inputs"
   ]
  },
  {
   "cell_type": "code",
   "execution_count": 3,
   "metadata": {
    "collapsed": false,
    "deletable": true,
    "editable": true
   },
   "outputs": [],
   "source": [
    "inputs_json = \"../adapter_pipelines/Optimus/adapter_example_static_demo.json\"\n",
    "inputs_bundle_id = \"../adapter_pipelines/Optimus/adapter_example_bundle_specific.json\"\n",
    "\n",
    "with open(inputs_json, 'r') as f:\n",
    "    inputs = json.load(f)\n",
    "\n",
    "with open(inputs_bundle_id, 'r') as f:\n",
    "    inputs.update(json.load(f))"
   ]
  },
  {
   "cell_type": "code",
   "execution_count": 4,
   "metadata": {
    "collapsed": true,
    "deletable": true,
    "editable": true
   },
   "outputs": [],
   "source": [
    "wdl = \"../adapter_pipelines/Optimus/adapter.wdl\"\n",
    "options_json = \"../adapter_pipelines/Optimus/options.json\"\n",
    "workflow_dependencies = {\n",
    "    'Optimus.wdl': '../../../skylab/optimus/Optimus.wdl',\n",
    "    'submit.wdl': '../adapter_pipelines/submit.wdl',\n",
    "    \"StarAlignBamSingleEnd.wdl\": \"../../../skylab/pipelines/tasks/StarAlignBamSingleEnd.wdl\",\n",
    "    \"FastqToUBam.wdl\": \"../../../skylab/pipelines/tasks/FastqToUBam.wdl\",\n",
    "    \"Attach10xBarcodes.wdl\": \"../../../skylab/pipelines/tasks/Attach10xBarcodes.wdl\",\n",
    "    \"SplitBamByCellBarcode.wdl\": \"../../../skylab/pipelines/tasks/SplitBamByCellBarcode.wdl\",\n",
    "    \"TagGeneExon.wdl\": \"../../../skylab/pipelines/tasks/TagGeneExon.wdl\",\n",
    "    \"CorrectUmiMarkDuplicates.wdl\": \"../../../skylab/pipelines/tasks/CorrectUmiMarkDuplicates.wdl\",\n",
    "    \"CollectMultiplePicardMetrics.wdl\": \"../../../skylab/pipelines/tasks/CollectMultiplePicardMetrics.wdl\",\n",
    "    \"MergeBam.wdl\": \"../../../skylab/pipelines/tasks/MergeBam.wdl\",\n",
    "    \"CreateCountMatrix.wdl\": \"../../../skylab/pipelines/tasks/CreateCountMatrix.wdl\",\n",
    "    \"AlignTagCorrectUmis.wdl\": \"../../../skylab/optimus/AlignTagCorrectUmis.wdl\"    \n",
    "}"
   ]
  },
  {
   "cell_type": "markdown",
   "metadata": {
    "deletable": true,
    "editable": true
   },
   "source": [
    "## Validate & Run WDL"
   ]
  },
  {
   "cell_type": "code",
   "execution_count": 5,
   "metadata": {
    "collapsed": true,
    "deletable": true,
    "editable": true
   },
   "outputs": [],
   "source": [
    "os.environ['wdltool'] = '/Users/carra1/google_drive/software/wdltool-0.14.jar'"
   ]
  },
  {
   "cell_type": "code",
   "execution_count": null,
   "metadata": {
    "collapsed": true
   },
   "outputs": [],
   "source": [
    "cwm.Workflow.validate(\n",
    "    wdl=wdl,\n",
    "    inputs_json=inputs,\n",
    "    storage_client=storage_client,\n",
    "    workflow_dependencies=workflow_dependencies,\n",
    "    cromwell_server=cromwell_server)"
   ]
  },
  {
   "cell_type": "code",
   "execution_count": 8,
   "metadata": {
    "collapsed": false,
    "deletable": true,
    "editable": true
   },
   "outputs": [
    {
     "name": "stderr",
     "output_type": "stream",
     "text": [
      "ERROR:root:Internal Python error in the inspect module.\n",
      "Below is the traceback from this internal error.\n",
      "\n"
     ]
    },
    {
     "name": "stdout",
     "output_type": "stream",
     "text": [
      "Traceback (most recent call last):\n",
      "  File \"/usr/local/lib/python3.6/site-packages/IPython/core/interactiveshell.py\", line 2881, in run_code\n",
      "    exec(code_obj, self.user_global_ns, self.user_ns)\n",
      "  File \"<ipython-input-8-f13a17ec2eeb>\", line 6, in <module>\n",
      "    cromwell_server=cromwell_server)\n",
      "  File \"/Users/carra1/projects/cromwell-manager/src/cromwell_manager/workflow.py\", line 180, in from_submission\n",
      "    gs_client=storage_client)\n",
      "  File \"/Users/carra1/projects/cromwell-manager/src/cromwell_manager/workflow.py\", line 221, in _create_submission_json\n",
      "    **workflow_dependencies)\n",
      "  File \"/Users/carra1/projects/cromwell-manager/src/cromwell_manager/io_util.py\", line 142, in package_workflow_dependencies\n",
      "    archive.write(dependency, arcname=name)\n",
      "  File \"/usr/local/Cellar/python3/3.6.0/Frameworks/Python.framework/Versions/3.6/lib/python3.6/zipfile.py\", line 1580, in write\n",
      "    zinfo = ZipInfo.from_file(filename, arcname)\n",
      "  File \"/usr/local/Cellar/python3/3.6.0/Frameworks/Python.framework/Versions/3.6/lib/python3.6/zipfile.py\", line 482, in from_file\n",
      "    st = os.stat(filename)\n",
      "FileNotFoundError: [Errno 2] No such file or directory: '../../../skylab/optimus/Optimus.wdl'\n",
      "\n",
      "During handling of the above exception, another exception occurred:\n",
      "\n",
      "Traceback (most recent call last):\n",
      "  File \"/usr/local/lib/python3.6/site-packages/IPython/core/interactiveshell.py\", line 1821, in showtraceback\n",
      "    stb = value._render_traceback_()\n",
      "AttributeError: 'FileNotFoundError' object has no attribute '_render_traceback_'\n",
      "\n",
      "During handling of the above exception, another exception occurred:\n",
      "\n",
      "Traceback (most recent call last):\n",
      "  File \"/usr/local/lib/python3.6/site-packages/IPython/core/ultratb.py\", line 1132, in get_records\n",
      "    return _fixed_getinnerframes(etb, number_of_lines_of_context, tb_offset)\n",
      "  File \"/usr/local/lib/python3.6/site-packages/IPython/core/ultratb.py\", line 313, in wrapped\n",
      "    return f(*args, **kwargs)\n",
      "  File \"/usr/local/lib/python3.6/site-packages/IPython/core/ultratb.py\", line 358, in _fixed_getinnerframes\n",
      "    records = fix_frame_records_filenames(inspect.getinnerframes(etb, context))\n",
      "  File \"/usr/local/Cellar/python3/3.6.0/Frameworks/Python.framework/Versions/3.6/lib/python3.6/inspect.py\", line 1454, in getinnerframes\n",
      "    frameinfo = (tb.tb_frame,) + getframeinfo(tb, context)\n",
      "  File \"/usr/local/Cellar/python3/3.6.0/Frameworks/Python.framework/Versions/3.6/lib/python3.6/inspect.py\", line 1411, in getframeinfo\n",
      "    filename = getsourcefile(frame) or getfile(frame)\n",
      "  File \"/usr/local/Cellar/python3/3.6.0/Frameworks/Python.framework/Versions/3.6/lib/python3.6/inspect.py\", line 666, in getsourcefile\n",
      "    if getattr(getmodule(object, filename), '__loader__', None) is not None:\n",
      "  File \"/usr/local/Cellar/python3/3.6.0/Frameworks/Python.framework/Versions/3.6/lib/python3.6/inspect.py\", line 695, in getmodule\n",
      "    file = getabsfile(object, _filename)\n",
      "  File \"/usr/local/Cellar/python3/3.6.0/Frameworks/Python.framework/Versions/3.6/lib/python3.6/inspect.py\", line 679, in getabsfile\n",
      "    return os.path.normcase(os.path.abspath(_filename))\n",
      "  File \"/usr/local/Cellar/python3/3.6.0/Frameworks/Python.framework/Versions/3.6/lib/python3.6/posixpath.py\", line 374, in abspath\n",
      "    cwd = os.getcwd()\n",
      "FileNotFoundError: [Errno 2] No such file or directory\n"
     ]
    },
    {
     "ename": "FileNotFoundError",
     "evalue": "[Errno 2] No such file or directory: '../../../skylab/optimus/Optimus.wdl'",
     "output_type": "error",
     "traceback": [
      "\u001b[0;31m---------------------------------------------------------------------------\u001b[0m"
     ]
    }
   ],
   "source": [
    "wf = cwm.Workflow.from_submission(\n",
    "    wdl=wdl,\n",
    "    inputs_json=inputs,\n",
    "    storage_client=storage_client,\n",
    "    workflow_dependencies=workflow_dependencies,\n",
    "    cromwell_server=cromwell_server)"
   ]
  },
  {
   "cell_type": "code",
   "execution_count": null,
   "metadata": {
    "collapsed": false,
    "deletable": true,
    "editable": true
   },
   "outputs": [],
   "source": [
    "wf.status"
   ]
  },
  {
   "cell_type": "code",
   "execution_count": 24,
   "metadata": {
    "collapsed": false,
    "deletable": true,
    "editable": true
   },
   "outputs": [
    {
     "data": {
      "text/plain": [
       "<Response [200]>"
      ]
     },
     "execution_count": 24,
     "metadata": {},
     "output_type": "execute_result"
    }
   ],
   "source": [
    "cromwell_server.metadata(wf.id, open_browser=True)"
   ]
  },
  {
   "cell_type": "code",
   "execution_count": 25,
   "metadata": {
    "collapsed": false,
    "deletable": true,
    "editable": true
   },
   "outputs": [
    {
     "data": {
      "text/plain": [
       "{'calls': {'AdapterOptimus.prep': [{'attempt': 1,\n",
       "    'backendLogs': {'log': 'gs://broad-dsde-mint-dev-cromwell-execution/cromwell-executions/AdapterOptimus/ecc3de6a-a38a-45f5-9efd-65d1071a45c9/call-prep/prep.log'},\n",
       "    'shardIndex': -1,\n",
       "    'stderr': 'gs://broad-dsde-mint-dev-cromwell-execution/cromwell-executions/AdapterOptimus/ecc3de6a-a38a-45f5-9efd-65d1071a45c9/call-prep/prep-stderr.log',\n",
       "    'stdout': 'gs://broad-dsde-mint-dev-cromwell-execution/cromwell-executions/AdapterOptimus/ecc3de6a-a38a-45f5-9efd-65d1071a45c9/call-prep/prep-stdout.log'}]},\n",
       " 'id': 'ecc3de6a-a38a-45f5-9efd-65d1071a45c9'}"
      ]
     },
     "execution_count": 25,
     "metadata": {},
     "output_type": "execute_result"
    }
   ],
   "source": [
    "wf.logs"
   ]
  }
 ],
 "metadata": {
  "hide_input": false,
  "kernelspec": {
   "display_name": "Python 3",
   "language": "python",
   "name": "python3"
  },
  "language_info": {
   "codemirror_mode": {
    "name": "ipython",
    "version": 3
   },
   "file_extension": ".py",
   "mimetype": "text/x-python",
   "name": "python",
   "nbconvert_exporter": "python",
   "pygments_lexer": "ipython3",
   "version": "3.6.0"
  },
  "toc": {
   "nav_menu": {},
   "number_sections": true,
   "sideBar": true,
   "skip_h1_title": false,
   "toc_cell": false,
   "toc_position": {},
   "toc_section_display": "block",
   "toc_window_display": false
  }
 },
 "nbformat": 4,
 "nbformat_minor": 2
}
